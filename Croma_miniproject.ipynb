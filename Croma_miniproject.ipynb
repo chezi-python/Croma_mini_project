{
 "cells": [
  {
   "cell_type": "code",
   "execution_count": 50,
   "metadata": {},
   "outputs": [],
   "source": [
    "import pandas as pd\n",
    "\n",
    "# Step 1: Load the dataset\n",
    "df = pd.read_csv(\"/Users/rangasamyelancheziyan/Desktop/CROMA/python/iphone.csv\")"
   ]
  },
  {
   "cell_type": "code",
   "execution_count": 82,
   "metadata": {},
   "outputs": [
    {
     "name": "stdout",
     "output_type": "stream",
     "text": [
      "<class 'pandas.core.frame.DataFrame'>\n",
      "RangeIndex: 62 entries, 0 to 61\n",
      "Data columns (total 17 columns):\n",
      " #   Column                     Non-Null Count  Dtype  \n",
      "---  ------                     --------------  -----  \n",
      " 0   Product_Name               62 non-null     object \n",
      " 1   Product_URL                62 non-null     object \n",
      " 2   Brand                      62 non-null     object \n",
      " 3   Sale_Price                 62 non-null     int64  \n",
      " 4   Mrp                        62 non-null     int64  \n",
      " 5   Number_Of_Ratings          62 non-null     int64  \n",
      " 6   Number_Of_Reviews          62 non-null     int64  \n",
      " 7   Upc                        62 non-null     object \n",
      " 8   Star_Rating                59 non-null     float64\n",
      " 9   Ram                        62 non-null     object \n",
      " 10  Star_Rating_filled_by_ram  62 non-null     float64\n",
      " 11  Discount_Percentage        62 non-null     float64\n",
      " 12  Storage                    62 non-null     object \n",
      " 13  Color                      62 non-null     object \n",
      " 14  Version                    62 non-null     object \n",
      " 15  Version_Number             42 non-null     object \n",
      " 16  Rating_to_Review_Ratio     62 non-null     float64\n",
      "dtypes: float64(4), int64(4), object(9)\n",
      "memory usage: 8.4+ KB\n"
     ]
    }
   ],
   "source": [
    "df.info()"
   ]
  },
  {
   "cell_type": "code",
   "execution_count": 83,
   "metadata": {},
   "outputs": [
    {
     "data": {
      "text/plain": [
       "Index(['Product_Name', 'Product_URL', 'Brand', 'Sale_Price', 'Mrp',\n",
       "       'Number_Of_Ratings', 'Number_Of_Reviews', 'Upc', 'Star_Rating', 'Ram',\n",
       "       'Star_Rating_filled_by_ram', 'Discount_Percentage', 'Storage', 'Color',\n",
       "       'Version', 'Version_Number', 'Rating_to_Review_Ratio'],\n",
       "      dtype='object')"
      ]
     },
     "execution_count": 83,
     "metadata": {},
     "output_type": "execute_result"
    }
   ],
   "source": [
    "df.columns"
   ]
  },
  {
   "cell_type": "code",
   "execution_count": 84,
   "metadata": {},
   "outputs": [
    {
     "data": {
      "text/html": [
       "<div>\n",
       "<style scoped>\n",
       "    .dataframe tbody tr th:only-of-type {\n",
       "        vertical-align: middle;\n",
       "    }\n",
       "\n",
       "    .dataframe tbody tr th {\n",
       "        vertical-align: top;\n",
       "    }\n",
       "\n",
       "    .dataframe thead th {\n",
       "        text-align: right;\n",
       "    }\n",
       "</style>\n",
       "<table border=\"1\" class=\"dataframe\">\n",
       "  <thead>\n",
       "    <tr style=\"text-align: right;\">\n",
       "      <th></th>\n",
       "      <th>Product_Name</th>\n",
       "      <th>Product_URL</th>\n",
       "      <th>Brand</th>\n",
       "      <th>Sale_Price</th>\n",
       "      <th>Mrp</th>\n",
       "      <th>Number_Of_Ratings</th>\n",
       "      <th>Number_Of_Reviews</th>\n",
       "      <th>Upc</th>\n",
       "      <th>Star_Rating</th>\n",
       "      <th>Ram</th>\n",
       "      <th>Star_Rating_filled_by_ram</th>\n",
       "      <th>Discount_Percentage</th>\n",
       "      <th>Storage</th>\n",
       "      <th>Color</th>\n",
       "      <th>Version</th>\n",
       "      <th>Version_Number</th>\n",
       "      <th>Rating_to_Review_Ratio</th>\n",
       "    </tr>\n",
       "  </thead>\n",
       "  <tbody>\n",
       "    <tr>\n",
       "      <th>0</th>\n",
       "      <td>APPLE iPhone 8 Plus (Gold, 64 GB)</td>\n",
       "      <td>https://www.flipkart.com/apple-iphone-8-plus-g...</td>\n",
       "      <td>Apple</td>\n",
       "      <td>49900</td>\n",
       "      <td>49900</td>\n",
       "      <td>3431</td>\n",
       "      <td>356</td>\n",
       "      <td>MOBEXRGV7EHHTGUH</td>\n",
       "      <td>4.6</td>\n",
       "      <td>2 GB</td>\n",
       "      <td>4.600000</td>\n",
       "      <td>0.0</td>\n",
       "      <td>64 GB</td>\n",
       "      <td>Gold</td>\n",
       "      <td>iPhone 8</td>\n",
       "      <td>NaN</td>\n",
       "      <td>0.012921</td>\n",
       "    </tr>\n",
       "    <tr>\n",
       "      <th>1</th>\n",
       "      <td>APPLE iPhone 8 Plus (Space Grey, 256 GB)</td>\n",
       "      <td>https://www.flipkart.com/apple-iphone-8-plus-s...</td>\n",
       "      <td>Apple</td>\n",
       "      <td>84900</td>\n",
       "      <td>84900</td>\n",
       "      <td>3431</td>\n",
       "      <td>356</td>\n",
       "      <td>MOBEXRGVAC6TJT4F</td>\n",
       "      <td>4.6</td>\n",
       "      <td>2 GB</td>\n",
       "      <td>4.600000</td>\n",
       "      <td>0.0</td>\n",
       "      <td>256 GB</td>\n",
       "      <td>Space Grey</td>\n",
       "      <td>iPhone 8</td>\n",
       "      <td>NaN</td>\n",
       "      <td>0.012921</td>\n",
       "    </tr>\n",
       "    <tr>\n",
       "      <th>2</th>\n",
       "      <td>APPLE iPhone 8 Plus (Silver, 256 GB)</td>\n",
       "      <td>https://www.flipkart.com/apple-iphone-8-plus-s...</td>\n",
       "      <td>Apple</td>\n",
       "      <td>84900</td>\n",
       "      <td>84900</td>\n",
       "      <td>3431</td>\n",
       "      <td>356</td>\n",
       "      <td>MOBEXRGVGETABXWZ</td>\n",
       "      <td>4.6</td>\n",
       "      <td>2 GB</td>\n",
       "      <td>4.600000</td>\n",
       "      <td>0.0</td>\n",
       "      <td>256 GB</td>\n",
       "      <td>Silver</td>\n",
       "      <td>iPhone 8</td>\n",
       "      <td>NaN</td>\n",
       "      <td>0.012921</td>\n",
       "    </tr>\n",
       "    <tr>\n",
       "      <th>3</th>\n",
       "      <td>APPLE iPhone 8 (Silver, 256 GB)</td>\n",
       "      <td>https://www.flipkart.com/apple-iphone-8-silver...</td>\n",
       "      <td>Apple</td>\n",
       "      <td>77000</td>\n",
       "      <td>77000</td>\n",
       "      <td>11202</td>\n",
       "      <td>794</td>\n",
       "      <td>MOBEXRGVMZWUHCBA</td>\n",
       "      <td>NaN</td>\n",
       "      <td>2 GB</td>\n",
       "      <td>4.541667</td>\n",
       "      <td>0.0</td>\n",
       "      <td>256 GB</td>\n",
       "      <td>Silver</td>\n",
       "      <td>iPhone 8</td>\n",
       "      <td>NaN</td>\n",
       "      <td>0.005720</td>\n",
       "    </tr>\n",
       "    <tr>\n",
       "      <th>4</th>\n",
       "      <td>APPLE iPhone 8 (Gold, 256 GB)</td>\n",
       "      <td>https://www.flipkart.com/apple-iphone-8-gold-2...</td>\n",
       "      <td>Apple</td>\n",
       "      <td>77000</td>\n",
       "      <td>77000</td>\n",
       "      <td>11202</td>\n",
       "      <td>794</td>\n",
       "      <td>MOBEXRGVPK7PFEJZ</td>\n",
       "      <td>4.5</td>\n",
       "      <td>2 GB</td>\n",
       "      <td>4.500000</td>\n",
       "      <td>0.0</td>\n",
       "      <td>256 GB</td>\n",
       "      <td>Gold</td>\n",
       "      <td>iPhone 8</td>\n",
       "      <td>NaN</td>\n",
       "      <td>0.005668</td>\n",
       "    </tr>\n",
       "  </tbody>\n",
       "</table>\n",
       "</div>"
      ],
      "text/plain": [
       "                               Product_Name  \\\n",
       "0         APPLE iPhone 8 Plus (Gold, 64 GB)   \n",
       "1  APPLE iPhone 8 Plus (Space Grey, 256 GB)   \n",
       "2      APPLE iPhone 8 Plus (Silver, 256 GB)   \n",
       "3           APPLE iPhone 8 (Silver, 256 GB)   \n",
       "4             APPLE iPhone 8 (Gold, 256 GB)   \n",
       "\n",
       "                                         Product_URL  Brand  Sale_Price  \\\n",
       "0  https://www.flipkart.com/apple-iphone-8-plus-g...  Apple       49900   \n",
       "1  https://www.flipkart.com/apple-iphone-8-plus-s...  Apple       84900   \n",
       "2  https://www.flipkart.com/apple-iphone-8-plus-s...  Apple       84900   \n",
       "3  https://www.flipkart.com/apple-iphone-8-silver...  Apple       77000   \n",
       "4  https://www.flipkart.com/apple-iphone-8-gold-2...  Apple       77000   \n",
       "\n",
       "     Mrp  Number_Of_Ratings  Number_Of_Reviews               Upc  Star_Rating  \\\n",
       "0  49900               3431                356  MOBEXRGV7EHHTGUH          4.6   \n",
       "1  84900               3431                356  MOBEXRGVAC6TJT4F          4.6   \n",
       "2  84900               3431                356  MOBEXRGVGETABXWZ          4.6   \n",
       "3  77000              11202                794  MOBEXRGVMZWUHCBA          NaN   \n",
       "4  77000              11202                794  MOBEXRGVPK7PFEJZ          4.5   \n",
       "\n",
       "    Ram  Star_Rating_filled_by_ram  Discount_Percentage Storage       Color  \\\n",
       "0  2 GB                   4.600000                  0.0   64 GB        Gold   \n",
       "1  2 GB                   4.600000                  0.0  256 GB  Space Grey   \n",
       "2  2 GB                   4.600000                  0.0  256 GB      Silver   \n",
       "3  2 GB                   4.541667                  0.0  256 GB      Silver   \n",
       "4  2 GB                   4.500000                  0.0  256 GB        Gold   \n",
       "\n",
       "    Version Version_Number  Rating_to_Review_Ratio  \n",
       "0  iPhone 8            NaN                0.012921  \n",
       "1  iPhone 8            NaN                0.012921  \n",
       "2  iPhone 8            NaN                0.012921  \n",
       "3  iPhone 8            NaN                0.005720  \n",
       "4  iPhone 8            NaN                0.005668  "
      ]
     },
     "execution_count": 84,
     "metadata": {},
     "output_type": "execute_result"
    }
   ],
   "source": [
    "#1 - The column names have spaces . rename the column names to have underscore '_' instead of space (try to do in one go instead of specifying each column nam in rename method)\n",
    "df.columns = [col.replace(\" \", \"_\") for col in df.columns]\n",
    "df.head()"
   ]
  },
  {
   "cell_type": "code",
   "execution_count": 53,
   "metadata": {},
   "outputs": [
    {
     "data": {
      "text/plain": [
       "Product_Name         0\n",
       "Product_URL          0\n",
       "Brand                0\n",
       "Sale_Price           0\n",
       "Mrp                  0\n",
       "Number_Of_Ratings    0\n",
       "Number_Of_Reviews    0\n",
       "Upc                  0\n",
       "Star_Rating          3\n",
       "Ram                  0\n",
       "dtype: int64"
      ]
     },
     "execution_count": 53,
     "metadata": {},
     "output_type": "execute_result"
    }
   ],
   "source": [
    "df.isnull().sum()"
   ]
  },
  {
   "cell_type": "code",
   "execution_count": 85,
   "metadata": {},
   "outputs": [],
   "source": [
    "#2- start rating for some of the models is missing in the dataset. fill those missing values with the average rating all the models.\n",
    "df[\"Star_Rating_filled_overall\"] = df[\"Star_Rating\"].fillna(df[\"Star_Rating\"].mean())\n"
   ]
  },
  {
   "cell_type": "code",
   "execution_count": 86,
   "metadata": {},
   "outputs": [
    {
     "data": {
      "text/html": [
       "<div>\n",
       "<style scoped>\n",
       "    .dataframe tbody tr th:only-of-type {\n",
       "        vertical-align: middle;\n",
       "    }\n",
       "\n",
       "    .dataframe tbody tr th {\n",
       "        vertical-align: top;\n",
       "    }\n",
       "\n",
       "    .dataframe thead th {\n",
       "        text-align: right;\n",
       "    }\n",
       "</style>\n",
       "<table border=\"1\" class=\"dataframe\">\n",
       "  <thead>\n",
       "    <tr style=\"text-align: right;\">\n",
       "      <th></th>\n",
       "      <th>Product_Name</th>\n",
       "      <th>Product_URL</th>\n",
       "      <th>Brand</th>\n",
       "      <th>Sale_Price</th>\n",
       "      <th>Mrp</th>\n",
       "      <th>Number_Of_Ratings</th>\n",
       "      <th>Number_Of_Reviews</th>\n",
       "      <th>Upc</th>\n",
       "      <th>Star_Rating</th>\n",
       "      <th>Ram</th>\n",
       "      <th>Star_Rating_filled_by_ram</th>\n",
       "      <th>Discount_Percentage</th>\n",
       "      <th>Storage</th>\n",
       "      <th>Color</th>\n",
       "      <th>Version</th>\n",
       "      <th>Version_Number</th>\n",
       "      <th>Rating_to_Review_Ratio</th>\n",
       "      <th>Star_Rating_filled_overall</th>\n",
       "    </tr>\n",
       "  </thead>\n",
       "  <tbody>\n",
       "    <tr>\n",
       "      <th>0</th>\n",
       "      <td>APPLE iPhone 8 Plus (Gold, 64 GB)</td>\n",
       "      <td>https://www.flipkart.com/apple-iphone-8-plus-g...</td>\n",
       "      <td>Apple</td>\n",
       "      <td>49900</td>\n",
       "      <td>49900</td>\n",
       "      <td>3431</td>\n",
       "      <td>356</td>\n",
       "      <td>MOBEXRGV7EHHTGUH</td>\n",
       "      <td>4.6</td>\n",
       "      <td>2 GB</td>\n",
       "      <td>4.600000</td>\n",
       "      <td>0.000000</td>\n",
       "      <td>64 GB</td>\n",
       "      <td>Gold</td>\n",
       "      <td>iPhone 8</td>\n",
       "      <td>NaN</td>\n",
       "      <td>0.012921</td>\n",
       "      <td>4.600000</td>\n",
       "    </tr>\n",
       "    <tr>\n",
       "      <th>1</th>\n",
       "      <td>APPLE iPhone 8 Plus (Space Grey, 256 GB)</td>\n",
       "      <td>https://www.flipkart.com/apple-iphone-8-plus-s...</td>\n",
       "      <td>Apple</td>\n",
       "      <td>84900</td>\n",
       "      <td>84900</td>\n",
       "      <td>3431</td>\n",
       "      <td>356</td>\n",
       "      <td>MOBEXRGVAC6TJT4F</td>\n",
       "      <td>4.6</td>\n",
       "      <td>2 GB</td>\n",
       "      <td>4.600000</td>\n",
       "      <td>0.000000</td>\n",
       "      <td>256 GB</td>\n",
       "      <td>Space Grey</td>\n",
       "      <td>iPhone 8</td>\n",
       "      <td>NaN</td>\n",
       "      <td>0.012921</td>\n",
       "      <td>4.600000</td>\n",
       "    </tr>\n",
       "    <tr>\n",
       "      <th>2</th>\n",
       "      <td>APPLE iPhone 8 Plus (Silver, 256 GB)</td>\n",
       "      <td>https://www.flipkart.com/apple-iphone-8-plus-s...</td>\n",
       "      <td>Apple</td>\n",
       "      <td>84900</td>\n",
       "      <td>84900</td>\n",
       "      <td>3431</td>\n",
       "      <td>356</td>\n",
       "      <td>MOBEXRGVGETABXWZ</td>\n",
       "      <td>4.6</td>\n",
       "      <td>2 GB</td>\n",
       "      <td>4.600000</td>\n",
       "      <td>0.000000</td>\n",
       "      <td>256 GB</td>\n",
       "      <td>Silver</td>\n",
       "      <td>iPhone 8</td>\n",
       "      <td>NaN</td>\n",
       "      <td>0.012921</td>\n",
       "      <td>4.600000</td>\n",
       "    </tr>\n",
       "    <tr>\n",
       "      <th>3</th>\n",
       "      <td>APPLE iPhone 8 (Silver, 256 GB)</td>\n",
       "      <td>https://www.flipkart.com/apple-iphone-8-silver...</td>\n",
       "      <td>Apple</td>\n",
       "      <td>77000</td>\n",
       "      <td>77000</td>\n",
       "      <td>11202</td>\n",
       "      <td>794</td>\n",
       "      <td>MOBEXRGVMZWUHCBA</td>\n",
       "      <td>NaN</td>\n",
       "      <td>2 GB</td>\n",
       "      <td>4.541667</td>\n",
       "      <td>0.000000</td>\n",
       "      <td>256 GB</td>\n",
       "      <td>Silver</td>\n",
       "      <td>iPhone 8</td>\n",
       "      <td>NaN</td>\n",
       "      <td>0.005720</td>\n",
       "      <td>4.576271</td>\n",
       "    </tr>\n",
       "    <tr>\n",
       "      <th>4</th>\n",
       "      <td>APPLE iPhone 8 (Gold, 256 GB)</td>\n",
       "      <td>https://www.flipkart.com/apple-iphone-8-gold-2...</td>\n",
       "      <td>Apple</td>\n",
       "      <td>77000</td>\n",
       "      <td>77000</td>\n",
       "      <td>11202</td>\n",
       "      <td>794</td>\n",
       "      <td>MOBEXRGVPK7PFEJZ</td>\n",
       "      <td>4.5</td>\n",
       "      <td>2 GB</td>\n",
       "      <td>4.500000</td>\n",
       "      <td>0.000000</td>\n",
       "      <td>256 GB</td>\n",
       "      <td>Gold</td>\n",
       "      <td>iPhone 8</td>\n",
       "      <td>NaN</td>\n",
       "      <td>0.005668</td>\n",
       "      <td>4.500000</td>\n",
       "    </tr>\n",
       "    <tr>\n",
       "      <th>...</th>\n",
       "      <td>...</td>\n",
       "      <td>...</td>\n",
       "      <td>...</td>\n",
       "      <td>...</td>\n",
       "      <td>...</td>\n",
       "      <td>...</td>\n",
       "      <td>...</td>\n",
       "      <td>...</td>\n",
       "      <td>...</td>\n",
       "      <td>...</td>\n",
       "      <td>...</td>\n",
       "      <td>...</td>\n",
       "      <td>...</td>\n",
       "      <td>...</td>\n",
       "      <td>...</td>\n",
       "      <td>...</td>\n",
       "      <td>...</td>\n",
       "      <td>...</td>\n",
       "    </tr>\n",
       "    <tr>\n",
       "      <th>57</th>\n",
       "      <td>APPLE iPhone SE (Black, 64 GB)</td>\n",
       "      <td>https://www.flipkart.com/apple-iphone-se-black...</td>\n",
       "      <td>Apple</td>\n",
       "      <td>29999</td>\n",
       "      <td>39900</td>\n",
       "      <td>95909</td>\n",
       "      <td>8161</td>\n",
       "      <td>MOBFWQ6BR3MK7AUG</td>\n",
       "      <td>4.5</td>\n",
       "      <td>4 GB</td>\n",
       "      <td>4.500000</td>\n",
       "      <td>24.814536</td>\n",
       "      <td>64 GB</td>\n",
       "      <td>Black</td>\n",
       "      <td>iPhone SE</td>\n",
       "      <td>NaN</td>\n",
       "      <td>0.000551</td>\n",
       "      <td>4.500000</td>\n",
       "    </tr>\n",
       "    <tr>\n",
       "      <th>58</th>\n",
       "      <td>APPLE iPhone 11 (Purple, 64 GB)</td>\n",
       "      <td>https://www.flipkart.com/apple-iphone-11-purpl...</td>\n",
       "      <td>Apple</td>\n",
       "      <td>46999</td>\n",
       "      <td>54900</td>\n",
       "      <td>43470</td>\n",
       "      <td>3331</td>\n",
       "      <td>MOBFWQ6BTFFJKGKE</td>\n",
       "      <td>4.6</td>\n",
       "      <td>4 GB</td>\n",
       "      <td>4.600000</td>\n",
       "      <td>14.391621</td>\n",
       "      <td>64 GB</td>\n",
       "      <td>Purple</td>\n",
       "      <td>iPhone 11</td>\n",
       "      <td>11</td>\n",
       "      <td>0.001381</td>\n",
       "      <td>4.600000</td>\n",
       "    </tr>\n",
       "    <tr>\n",
       "      <th>59</th>\n",
       "      <td>APPLE iPhone 11 (White, 64 GB)</td>\n",
       "      <td>https://www.flipkart.com/apple-iphone-11-white...</td>\n",
       "      <td>Apple</td>\n",
       "      <td>46999</td>\n",
       "      <td>54900</td>\n",
       "      <td>43470</td>\n",
       "      <td>3331</td>\n",
       "      <td>MOBFWQ6BVWVEH3XE</td>\n",
       "      <td>4.6</td>\n",
       "      <td>4 GB</td>\n",
       "      <td>4.600000</td>\n",
       "      <td>14.391621</td>\n",
       "      <td>64 GB</td>\n",
       "      <td>White</td>\n",
       "      <td>iPhone 11</td>\n",
       "      <td>11</td>\n",
       "      <td>0.001381</td>\n",
       "      <td>4.600000</td>\n",
       "    </tr>\n",
       "    <tr>\n",
       "      <th>60</th>\n",
       "      <td>APPLE iPhone 11 (Black, 64 GB)</td>\n",
       "      <td>https://www.flipkart.com/apple-iphone-11-black...</td>\n",
       "      <td>Apple</td>\n",
       "      <td>46999</td>\n",
       "      <td>54900</td>\n",
       "      <td>43470</td>\n",
       "      <td>3331</td>\n",
       "      <td>MOBFWQ6BXGJCEYNY</td>\n",
       "      <td>4.6</td>\n",
       "      <td>4 GB</td>\n",
       "      <td>4.600000</td>\n",
       "      <td>14.391621</td>\n",
       "      <td>64 GB</td>\n",
       "      <td>Black</td>\n",
       "      <td>iPhone 11</td>\n",
       "      <td>11</td>\n",
       "      <td>0.001381</td>\n",
       "      <td>4.600000</td>\n",
       "    </tr>\n",
       "    <tr>\n",
       "      <th>61</th>\n",
       "      <td>APPLE iPhone 11 (Red, 64 GB)</td>\n",
       "      <td>https://www.flipkart.com/apple-iphone-11-red-6...</td>\n",
       "      <td>Apple</td>\n",
       "      <td>46999</td>\n",
       "      <td>54900</td>\n",
       "      <td>43470</td>\n",
       "      <td>3331</td>\n",
       "      <td>MOBFWQ6BYYV3FCU7</td>\n",
       "      <td>4.6</td>\n",
       "      <td>4 GB</td>\n",
       "      <td>4.600000</td>\n",
       "      <td>14.391621</td>\n",
       "      <td>64 GB</td>\n",
       "      <td>Red</td>\n",
       "      <td>iPhone 11</td>\n",
       "      <td>11</td>\n",
       "      <td>0.001381</td>\n",
       "      <td>4.600000</td>\n",
       "    </tr>\n",
       "  </tbody>\n",
       "</table>\n",
       "<p>62 rows × 18 columns</p>\n",
       "</div>"
      ],
      "text/plain": [
       "                                Product_Name  \\\n",
       "0          APPLE iPhone 8 Plus (Gold, 64 GB)   \n",
       "1   APPLE iPhone 8 Plus (Space Grey, 256 GB)   \n",
       "2       APPLE iPhone 8 Plus (Silver, 256 GB)   \n",
       "3            APPLE iPhone 8 (Silver, 256 GB)   \n",
       "4              APPLE iPhone 8 (Gold, 256 GB)   \n",
       "..                                       ...   \n",
       "57            APPLE iPhone SE (Black, 64 GB)   \n",
       "58           APPLE iPhone 11 (Purple, 64 GB)   \n",
       "59            APPLE iPhone 11 (White, 64 GB)   \n",
       "60            APPLE iPhone 11 (Black, 64 GB)   \n",
       "61              APPLE iPhone 11 (Red, 64 GB)   \n",
       "\n",
       "                                          Product_URL  Brand  Sale_Price  \\\n",
       "0   https://www.flipkart.com/apple-iphone-8-plus-g...  Apple       49900   \n",
       "1   https://www.flipkart.com/apple-iphone-8-plus-s...  Apple       84900   \n",
       "2   https://www.flipkart.com/apple-iphone-8-plus-s...  Apple       84900   \n",
       "3   https://www.flipkart.com/apple-iphone-8-silver...  Apple       77000   \n",
       "4   https://www.flipkart.com/apple-iphone-8-gold-2...  Apple       77000   \n",
       "..                                                ...    ...         ...   \n",
       "57  https://www.flipkart.com/apple-iphone-se-black...  Apple       29999   \n",
       "58  https://www.flipkart.com/apple-iphone-11-purpl...  Apple       46999   \n",
       "59  https://www.flipkart.com/apple-iphone-11-white...  Apple       46999   \n",
       "60  https://www.flipkart.com/apple-iphone-11-black...  Apple       46999   \n",
       "61  https://www.flipkart.com/apple-iphone-11-red-6...  Apple       46999   \n",
       "\n",
       "      Mrp  Number_Of_Ratings  Number_Of_Reviews               Upc  \\\n",
       "0   49900               3431                356  MOBEXRGV7EHHTGUH   \n",
       "1   84900               3431                356  MOBEXRGVAC6TJT4F   \n",
       "2   84900               3431                356  MOBEXRGVGETABXWZ   \n",
       "3   77000              11202                794  MOBEXRGVMZWUHCBA   \n",
       "4   77000              11202                794  MOBEXRGVPK7PFEJZ   \n",
       "..    ...                ...                ...               ...   \n",
       "57  39900              95909               8161  MOBFWQ6BR3MK7AUG   \n",
       "58  54900              43470               3331  MOBFWQ6BTFFJKGKE   \n",
       "59  54900              43470               3331  MOBFWQ6BVWVEH3XE   \n",
       "60  54900              43470               3331  MOBFWQ6BXGJCEYNY   \n",
       "61  54900              43470               3331  MOBFWQ6BYYV3FCU7   \n",
       "\n",
       "    Star_Rating   Ram  Star_Rating_filled_by_ram  Discount_Percentage Storage  \\\n",
       "0           4.6  2 GB                   4.600000             0.000000   64 GB   \n",
       "1           4.6  2 GB                   4.600000             0.000000  256 GB   \n",
       "2           4.6  2 GB                   4.600000             0.000000  256 GB   \n",
       "3           NaN  2 GB                   4.541667             0.000000  256 GB   \n",
       "4           4.5  2 GB                   4.500000             0.000000  256 GB   \n",
       "..          ...   ...                        ...                  ...     ...   \n",
       "57          4.5  4 GB                   4.500000            24.814536   64 GB   \n",
       "58          4.6  4 GB                   4.600000            14.391621   64 GB   \n",
       "59          4.6  4 GB                   4.600000            14.391621   64 GB   \n",
       "60          4.6  4 GB                   4.600000            14.391621   64 GB   \n",
       "61          4.6  4 GB                   4.600000            14.391621   64 GB   \n",
       "\n",
       "         Color    Version Version_Number  Rating_to_Review_Ratio  \\\n",
       "0         Gold   iPhone 8            NaN                0.012921   \n",
       "1   Space Grey   iPhone 8            NaN                0.012921   \n",
       "2       Silver   iPhone 8            NaN                0.012921   \n",
       "3       Silver   iPhone 8            NaN                0.005720   \n",
       "4         Gold   iPhone 8            NaN                0.005668   \n",
       "..         ...        ...            ...                     ...   \n",
       "57       Black  iPhone SE            NaN                0.000551   \n",
       "58      Purple  iPhone 11             11                0.001381   \n",
       "59       White  iPhone 11             11                0.001381   \n",
       "60       Black  iPhone 11             11                0.001381   \n",
       "61         Red  iPhone 11             11                0.001381   \n",
       "\n",
       "    Star_Rating_filled_overall  \n",
       "0                     4.600000  \n",
       "1                     4.600000  \n",
       "2                     4.600000  \n",
       "3                     4.576271  \n",
       "4                     4.500000  \n",
       "..                         ...  \n",
       "57                    4.500000  \n",
       "58                    4.600000  \n",
       "59                    4.600000  \n",
       "60                    4.600000  \n",
       "61                    4.600000  \n",
       "\n",
       "[62 rows x 18 columns]"
      ]
     },
     "execution_count": 86,
     "metadata": {},
     "output_type": "execute_result"
    }
   ],
   "source": [
    "#3- Now instead of filling missing values with avg rating of full dataset , fill with avg rating based on RAM. example :  if rating for a 2 gb phone is missing then take average of all other 2 gb phones rating and fill that value. \n",
    "\n",
    "df[\"Star_Rating_filled_by_ram\"] = df.groupby(\"Ram\")[\"Star_Rating\"].transform(lambda x: x.fillna(x.mean()))\n",
    "df"
   ]
  },
  {
   "cell_type": "code",
   "execution_count": 88,
   "metadata": {},
   "outputs": [
    {
     "data": {
      "text/plain": [
       "Index(['Product_Name', 'Product_URL', 'Brand', 'Sale_Price', 'Mrp',\n",
       "       'Number_Of_Ratings', 'Number_Of_Reviews', 'Upc', 'Star_Rating', 'Ram',\n",
       "       'Star_Rating_filled_by_ram', 'Discount_Percentage', 'Storage', 'Color',\n",
       "       'Version', 'Version_Number', 'Rating_to_Review_Ratio',\n",
       "       'Star_Rating_filled_overall'],\n",
       "      dtype='object')"
      ]
     },
     "execution_count": 88,
     "metadata": {},
     "output_type": "execute_result"
    }
   ],
   "source": [
    "# create a new column in the dataframe \"Discount_Percentage\" based on MRP and sale value\n",
    "df[\"Discount_Percentage\"] = ((df[\"Mrp\"] - df[\"Sale_Price\"]) / df[\"Mrp\"]) * 100\n",
    "df.columns"
   ]
  },
  {
   "cell_type": "code",
   "execution_count": 89,
   "metadata": {},
   "outputs": [
    {
     "name": "stdout",
     "output_type": "stream",
     "text": [
      "maximum discount model: APPLE iPhone 11 Pro (Midnight Green, 64 GB)\n"
     ]
    }
   ],
   "source": [
    "#5- which model has highest percent discount ?\n",
    "max_discount_model = df.loc[df[\"Discount_Percentage\"].idxmax(), \"Product_Name\"]\n",
    "print(\"maximum discount model:\",max_discount_model)"
   ]
  },
  {
   "cell_type": "code",
   "execution_count": 90,
   "metadata": {},
   "outputs": [
    {
     "name": "stdout",
     "output_type": "stream",
     "text": [
      "total no of models for each storage: Storage\n",
      "128 GB    24\n",
      "64 GB     20\n",
      "256 GB    14\n",
      "512 GB     4\n",
      "Name: count, dtype: int64\n"
     ]
    }
   ],
   "source": [
    "#6- find total no of models  each space configuration (128 GB , 64 GB etc)\n",
    "df[\"Storage\"] = df[\"Product_Name\"].str.extract(r'(\\d+\\s?GB)')\n",
    "storage_counts = df[\"Storage\"].value_counts()\n",
    "print(\"total no of models for each storage:\",storage_counts)"
   ]
  },
  {
   "cell_type": "code",
   "execution_count": 91,
   "metadata": {},
   "outputs": [
    {
     "name": "stdout",
     "output_type": "stream",
     "text": [
      "Total no of models for each color: Color\n",
      "Black             10\n",
      "White             10\n",
      "Silver             7\n",
      "Gold               6\n",
      "Space Grey         6\n",
      "Red                5\n",
      "Midnight Green     4\n",
      "Pacific Blue       4\n",
      "Graphite           4\n",
      "Blue               2\n",
      "RED                1\n",
      "Coral              1\n",
      "Green              1\n",
      "Purple             1\n",
      "Name: count, dtype: int64\n"
     ]
    }
   ],
   "source": [
    "#7- find total number of models for each color\n",
    "df[\"Color\"] = df[\"Product_Name\"].str.extract(r'\\(([^,]+)')\n",
    "color_counts = df[\"Color\"].value_counts()\n",
    "print(\"Total no of models for each color:\",color_counts)"
   ]
  },
  {
   "cell_type": "code",
   "execution_count": 67,
   "metadata": {},
   "outputs": [
    {
     "name": "stdout",
     "output_type": "stream",
     "text": [
      "Total number of models by iphone version: Version\n",
      "iPhone 12    26\n",
      "iPhone 11    16\n",
      "iPhone 8      8\n",
      "iPhone SE     6\n",
      "iPhone XR     5\n",
      "iPhone XS     1\n",
      "Name: count, dtype: int64\n"
     ]
    }
   ],
   "source": [
    "#8- find total number of models by iphone version : \n",
    "\n",
    "df[\"Version\"] = df[\"Product_Name\"].str.extract(r'(iPhone\\s[\\w]+)')\n",
    "version_counts = df[\"Version\"].value_counts()\n",
    "print(\"Total number of models by iphone version:\",version_counts)"
   ]
  },
  {
   "cell_type": "code",
   "execution_count": 68,
   "metadata": {},
   "outputs": [
    {
     "name": "stdout",
     "output_type": "stream",
     "text": [
      "Top 5 models with highest no of reviews:                        Product_Name  Number_Of_Reviews\n",
      "23  Apple iPhone SE (White, 256 GB)               8161\n",
      "53  APPLE iPhone SE (Black, 128 GB)               8161\n",
      "55    APPLE iPhone SE (Red, 128 GB)               8161\n",
      "57   APPLE iPhone SE (Black, 64 GB)               8161\n",
      "52   APPLE iPhone SE (White, 64 GB)               8154\n"
     ]
    }
   ],
   "source": [
    "#9- list top 5 models having highest no of reviews \n",
    "top_5_reviews = df.sort_values(by=\"Number_Of_Reviews\", ascending=False).head(5)[[\"Product_Name\", \"Number_Of_Reviews\"]]\n",
    "print(\"Top 5 models with highest no of reviews:\",top_5_reviews)"
   ]
  },
  {
   "cell_type": "code",
   "execution_count": 93,
   "metadata": {},
   "outputs": [
    {
     "name": "stdout",
     "output_type": "stream",
     "text": [
      "Price difference between highest and lowest MRP: 110000\n"
     ]
    }
   ],
   "source": [
    "#10 - what is the price diffrence between highest price and lowest price iphone (based on mrp)\n",
    "price_difference = df[\"Mrp\"].max() - df[\"Mrp\"].min()\n",
    "print(\"Price difference between highest and lowest MRP:\",price_difference)"
   ]
  },
  {
   "cell_type": "code",
   "execution_count": 94,
   "metadata": {},
   "outputs": [
    {
     "name": "stdout",
     "output_type": "stream",
     "text": [
      "Total reviews for iPhone 11 and 12: Version_Number\n",
      "11    25965\n",
      "12     2208\n",
      "Name: Number_Of_Reviews, dtype: int64\n"
     ]
    }
   ],
   "source": [
    "#11 - find total no of reviews for iphone 11 and iphone 12 category . Output should have only 2 rows (for 11 and 12)\n",
    "df[\"Version_Number\"] = df[\"Product_Name\"].str.extract(r'iPhone\\s(\\d{2})')\n",
    "iphone_11_12_reviews = df[df[\"Version_Number\"].isin([\"11\", \"12\"])].groupby(\"Version_Number\")[\"Number_Of_Reviews\"].sum()\n",
    "\n",
    "print(\"Total reviews for iPhone 11 and 12:\", iphone_11_12_reviews)"
   ]
  },
  {
   "cell_type": "code",
   "execution_count": 77,
   "metadata": {},
   "outputs": [
    {
     "name": "stdout",
     "output_type": "stream",
     "text": [
      "Third highest iphone MRP: APPLE iPhone 11 Pro (Midnight Green, 512 GB)\n"
     ]
    }
   ],
   "source": [
    "#12- which iphone has 3rd highest MRP\n",
    "third_highest_mrp_model = df.sort_values(by=\"Mrp\", ascending=False).iloc[2][\"Product_Name\"]\n",
    "print(\"Third highest iphone MRP:\",third_highest_mrp_model)"
   ]
  },
  {
   "cell_type": "code",
   "execution_count": 78,
   "metadata": {},
   "outputs": [
    {
     "name": "stdout",
     "output_type": "stream",
     "text": [
      "Average MRP of phone price above 100000: 130559.09090909091\n"
     ]
    }
   ],
   "source": [
    "#13- what is the average mrp of iphones which costs above 100,000\n",
    "avg_mrp_above_100k = df[df[\"Mrp\"] > 100000][\"Mrp\"].mean()\n",
    "print(\"Average MRP of phone price above 100000:\",avg_mrp_above_100k)"
   ]
  },
  {
   "cell_type": "code",
   "execution_count": 81,
   "metadata": {},
   "outputs": [
    {
     "name": "stdout",
     "output_type": "stream",
     "text": [
      "128 GB iPhone with highest rating to review ratio: APPLE iPhone 12 Pro (Pacific Blue, 128 GB)\n"
     ]
    }
   ],
   "source": [
    "#14- which iphone with 128 GB space has highest ratings to review ratio\n",
    "df[\"Rating_to_Review_Ratio\"] = df[\"Star_Rating_filled_by_ram\"] / df[\"Number_Of_Reviews\"]\n",
    "highest_ratio_model = df[df[\"Storage\"] == \"128 GB\"].sort_values(by=\"Rating_to_Review_Ratio\", ascending=False).iloc[0][\"Product_Name\"]\n",
    "print(\"128 GB iPhone with highest rating to review ratio:\", highest_ratio_model)"
   ]
  }
 ],
 "metadata": {
  "kernelspec": {
   "display_name": "Python 3",
   "language": "python",
   "name": "python3"
  },
  "language_info": {
   "codemirror_mode": {
    "name": "ipython",
    "version": 3
   },
   "file_extension": ".py",
   "mimetype": "text/x-python",
   "name": "python",
   "nbconvert_exporter": "python",
   "pygments_lexer": "ipython3",
   "version": "3.13.1"
  }
 },
 "nbformat": 4,
 "nbformat_minor": 2
}
